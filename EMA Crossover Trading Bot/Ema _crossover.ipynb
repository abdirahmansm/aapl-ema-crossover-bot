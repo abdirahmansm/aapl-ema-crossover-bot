{
 "cells": [
  {
   "cell_type": "code",
   "execution_count": null,
   "metadata": {},
   "outputs": [],
   "source": [
    "# Importing Necessary Packages\n",
    "\n",
    "import yfinance as yf\n",
    "import pandas as pd\n",
    "import numpy as np\n",
    "import matplotlib.pyplot as plt\n"
   ]
  },
  {
   "cell_type": "code",
   "execution_count": null,
   "metadata": {},
   "outputs": [],
   "source": [
    "#Downloading Historical Stock Data\n",
    "\n",
    "aapl_df = yf.download(\"AAPL\", start=\"2018-03-24\", end=\"2024-06-2\")\n",
    "aapl_df.head()\n",
    "\n",
    "\n"
   ]
  },
  {
   "cell_type": "code",
   "execution_count": null,
   "metadata": {},
   "outputs": [],
   "source": [
    "#Calculating EMAs We will calculate the short period (20 days) and long period (50 days) EMAs. You can adjust these periods as needed.\n",
    "\n",
    "aapl_df['ema_short'] = aapl_df['Close'].ewm(span=20, adjust=False).mean()\n",
    "aapl_df['ema_long'] = aapl_df['Close'].ewm(span=50, adjust=False).mean()\n",
    "aapl_df.head()\n"
   ]
  },
  {
   "cell_type": "code",
   "execution_count": null,
   "metadata": {},
   "outputs": [],
   "source": [
    "## Identifying Buy and Sell Signals\n",
    "#We will create new columns to identify bullish trends and crossover points.\n",
    "\n",
    "aapl_df['bullish'] = np.where(aapl_df['ema_short'] > aapl_df['ema_long'], 1.0, 0.0)\n",
    "aapl_df['crossover'] = aapl_df['bullish'].diff()\n",
    "aapl_df.head()\n",
    "\n"
   ]
  },
  {
   "cell_type": "code",
   "execution_count": null,
   "metadata": {},
   "outputs": [],
   "source": [
    "### Plotting the Results\n",
    "#We will plot the stock's closing price along with the short and long period EMAs. Additionally, we will mark the buy and sell signals on the chart.\n",
    "fig = plt.figure(figsize=(12,8))\n",
    "ax1 = fig.add_subplot(111, ylabel='Price in $')\n",
    "\n",
    "aapl_df['Close'].plot(ax=ax1, color='b', lw=2.)\n",
    "aapl_df['ema_short'].plot(ax=ax1, color='r', lw=2.)\n",
    "aapl_df['ema_long'].plot(ax=ax1, color='g', lw=2.)\n",
    "\n",
    "ax1.plot(aapl_df.loc[aapl_df.crossover == 1.0].index, \n",
    "         aapl_df.Close[aapl_df.crossover == 1.0],\n",
    "         '^', markersize=10, color='g')\n",
    "ax1.plot(aapl_df.loc[aapl_df.crossover == -1.0].index, \n",
    "         aapl_df.Close[aapl_df.crossover == -1.0],\n",
    "         'v', markersize=10, color='r')\n",
    "plt.legend(['Close', 'EMA Short', 'EMA Long', 'Buy', 'Sell'])\n",
    "plt.title('AAPL EMA Crossover')\n",
    "plt.show()\n",
    "\n"
   ]
  }
 ],
 "metadata": {
  "language_info": {
   "name": "python"
  }
 },
 "nbformat": 4,
 "nbformat_minor": 2
}
